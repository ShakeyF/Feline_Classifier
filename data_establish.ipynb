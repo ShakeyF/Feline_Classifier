{
 "cells": [
  {
   "cell_type": "code",
   "execution_count": null,
   "metadata": {},
   "outputs": [],
   "source": [
    "from dataIO import pk\n",
    "import cv2 as cv\n",
    "import numpy as np\n",
    "import os"
   ]
  },
  {
   "cell_type": "code",
   "execution_count": null,
   "metadata": {},
   "outputs": [],
   "source": [
    "imagedic = {\"data\":np.zeros(shape=[0,32,32,3],dtype = int),\"label\":[]}\n",
    "height = 32\n",
    "width = 32\n",
    "type(imagedic['data'])"
   ]
  },
  {
   "cell_type": "code",
   "execution_count": null,
   "metadata": {},
   "outputs": [],
   "source": [
    "# set different label for different class\n",
    "# resize all pic to 32 * 32\n",
    "rootdir = \"G:\\python\\ece285s\\\\raw\"\n",
    "list = os.listdir(rootdir) #列出文件夹下所有的目录与文件\n",
    "for i in range(0,len(list)):\n",
    "    path = os.path.join(rootdir,list[i])\n",
    "    if os.path.isfile(path):\n",
    "        img = cv.imread(path)\n",
    "        res = cv.resize(img,(width, height), interpolation = cv.INTER_CUBIC)\n",
    "        imagedic['data'] = np.append(imagedic['data'],[res], axis = 0)\n",
    "        imagedic['label'].append(0)"
   ]
  },
  {
   "cell_type": "code",
   "execution_count": null,
   "metadata": {},
   "outputs": [],
   "source": [
    "# you just need to change the file extension to .gz\n",
    "# when you ready to update your dic to the former one set overwrite True, in later block\n",
    "pk.dump(imagedic, \"data.pickle.gz\", overwrite=False)"
   ]
  },
  {
   "cell_type": "code",
   "execution_count": null,
   "metadata": {},
   "outputs": [],
   "source": [
    "#load previous dictionary\n",
    "previous = pk.load(\"data.pickle.gz\")"
   ]
  },
  {
   "cell_type": "code",
   "execution_count": null,
   "metadata": {},
   "outputs": [],
   "source": [
    "# add newly image and labels to previous one\n",
    "previous['data'] = np.append(previous['data'], imagedic['data'], axis = 0)\n",
    "previous['label'].append(imagedic['label'])"
   ]
  },
  {
   "cell_type": "code",
   "execution_count": null,
   "metadata": {},
   "outputs": [],
   "source": [
    "pk.dump(previous, \"data.pickle.gz\", overwrite=True)"
   ]
  },
  {
   "cell_type": "code",
   "execution_count": null,
   "metadata": {},
   "outputs": [],
   "source": []
  }
 ],
 "metadata": {
  "kernelspec": {
   "display_name": "Python 3",
   "language": "python",
   "name": "python3"
  },
  "language_info": {
   "codemirror_mode": {
    "name": "ipython",
    "version": 3
   },
   "file_extension": ".py",
   "mimetype": "text/x-python",
   "name": "python",
   "nbconvert_exporter": "python",
   "pygments_lexer": "ipython3",
   "version": "3.6.5"
  }
 },
 "nbformat": 4,
 "nbformat_minor": 2
}
