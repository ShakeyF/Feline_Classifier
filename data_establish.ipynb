{
 "cells": [
  {
   "cell_type": "code",
   "execution_count": null,
   "metadata": {},
   "outputs": [],
   "source": [
    "from dataIO import pk\n",
    "import cv2 as cv\n",
    "import numpy as np\n",
    "import os"
   ]
  },
  {
   "cell_type": "code",
   "execution_count": null,
   "metadata": {},
   "outputs": [],
   "source": [
    "imagedic_train = {\"data\":np.zeros(shape=[0,32,32,3],dtype = int),\"label\":[]}\n",
    "imagedic_validation = {\"data\":np.zeros(shape=[0,32,32,3],dtype = int),\"label\":[]}\n",
    "imagedic_test = {\"data\":np.zeros(shape=[0,32,32,3],dtype = int),\"label\":[]}\n",
    "imagedic_train_b = {\"data\":np.zeros(shape=[0,32,32,3],dtype = int),\"label\":np.zeros(shape=[0,32,32,3],dtype = int)}\n",
    "imagedic_test_b = {\"data\":np.zeros(shape=[0,32,32,3],dtype = int),\"label\":np.zeros(shape=[0,32,32,3],dtype = int)}\n",
    "imagedic_validation_b = {\"data\":np.zeros(shape=[0,32,32,3],dtype = int),\"label\":np.zeros(shape=[0,32,32,3],dtype = int)}\n",
    "height = 32\n",
    "width = 32"
   ]
  },
  {
   "cell_type": "code",
   "execution_count": null,
   "metadata": {},
   "outputs": [],
   "source": [
    "# set different label for different class\n",
    "# resize all pic to 32 * 32\n",
    "rootdir = \"G:\\python\\ece285s\\\\raw\"\n",
    "list = os.listdir(rootdir) #list all file under root path\n",
    "kernel_size = (21, 21)\n",
    "label = 0\n",
    "\n",
    "for i in range(len(list)):\n",
    "    path = os.path.join(rootdir,list[i])\n",
    "    if os.path.isfile(path):\n",
    "        img = cv.imread(path)\n",
    "        res = cv.resize(img,(width, height), interpolation = cv.INTER_CUBIC)\n",
    "        img_ = cv.blur(img, kernel_size)\n",
    "        res_ = cv.resize(img_,(32,32), interpolation = cv.INTER_CUBIC)\n",
    "        if i <= int(0.65*len(list)):\n",
    "            imagedic_train['data'] = np.append(imagedic_train['data'],[res], axis = 0)\n",
    "            imagedic_train['label'].append(label)\n",
    "            imagedic_train_b['data'] = np.append(imagedic_train_b['data'],[res_], axis = 0)\n",
    "            imagedic_train_b['label'] = np.append(imagedic_train_b['label'],[res], axis = 0)\n",
    "        elif i <= int(0.9*len(list)):\n",
    "            imagedic_validation['data'] = np.append(imagedic_validation['data'],[res], axis = 0)\n",
    "            imagedic_validation['label'].append(label)\n",
    "            imagedic_validation_b['data'] = np.append(imagedic_validation_b['data'],[res_], axis = 0)\n",
    "            imagedic_validation_b['label'] = np.append(imagedic_validation_b['label'],[res], axis = 0)\n",
    "        else:\n",
    "            imagedic_test['data'] = np.append(imagedic_test['data'],[res], axis = 0)\n",
    "            imagedic_test['label'].append(label)\n",
    "            imagedic_test_b['data'] = np.append(imagedic_test_b['data'],[res_], axis = 0)\n",
    "            imagedic_test_b['label'] = np.append(imagedic_test_b['label'],[res], axis = 0)\n"
   ]
  },
  {
   "cell_type": "code",
   "execution_count": null,
   "metadata": {},
   "outputs": [],
   "source": [
    "# you just need to change the file extension to .gz\n",
    "# when you ready to update your dic to the former one set overwrite True, in later block\n",
    "pk.dump(imagedic_train, \"train.gz\", overwrite=False)\n",
    "pk.dump(imagedic_validation, \"validation.gz\", overwrite=False)\n",
    "pk.dump(imagedic_test, \"test.gz\", overwrite=False)\n",
    "pk.dump(imagedic_train_b, \"train_blur.gz\", overwrite=False)\n",
    "pk.dump(imagedic_validation_b, \"validation_blur.gz\", overwrite=False)\n",
    "pk.dump(imagedic_test_b, \"test_blur.gz\", overwrite=False)\n"
   ]
  },
  {
   "cell_type": "code",
   "execution_count": null,
   "metadata": {},
   "outputs": [],
   "source": [
    "#load previous dictionary\n",
    "previous_train = pk.load(\"train.gz\")\n",
    "previous_validation = pk.load(\"validation.gz\")\n",
    "previous_test = pk.load(\"test.gz\")\n",
    "previous_train_b = pk.load(\"train_blur.gz\")\n",
    "previous_validation_b = pk.load(\"validation_blur.gz\")\n",
    "previous_test_b = pk.load(\"test_blur.gz\")"
   ]
  },
  {
   "cell_type": "code",
   "execution_count": null,
   "metadata": {},
   "outputs": [],
   "source": [
    "# add newly image and labels to previous one\n",
    "previous_train['data'] = np.append(previous_train['data'], imagedic_train['data'], axis = 0)\n",
    "previous_train['label'] += (imagedic_train['label'])\n",
    "previous_validation['data'] = np.append(previous_validation['data'], imagedic_validation['data'], axis = 0)\n",
    "previous_validation['label'] += (imagedic_validation['label'])\n",
    "previous_test['data'] = np.append(previous_test['data'], imagedic_test['data'], axis = 0)\n",
    "previous_test['label'] += (imagedic_test['label'])\n",
    "\n",
    "previous_train_b['data'] = np.append(previous_train_b['data'], imagedic_train_b['data'], axis = 0)\n",
    "previous_train_b['label'] = np.append(previous_train_b['label'], imagedic_train_b['label'], axis = 0)\n",
    "previous_validation_b['data'] = np.append(previous_validation_b['data'], imagedic_validation_b['data'], axis = 0)\n",
    "previous_validation_b['label'] = np.append(previous_validation_b['label'], imagedic_validation_b['label'], axis = 0)\n",
    "previous_test_b['data'] = np.append(previous_test_b['data'], imagedic_test_b['data'], axis = 0)\n",
    "previous_test_b['label'] = np.append(previous_test_b['label'], imagedic_test_b['label'], axis = 0)"
   ]
  },
  {
   "cell_type": "code",
   "execution_count": null,
   "metadata": {},
   "outputs": [],
   "source": [
    "pk.dump(previous_train, \"train.gz\", overwrite=True)\n",
    "pk.dump(previous_validation, \"validation.gz\", overwrite=True)\n",
    "pk.dump(previous_test, \"test.gz\", overwrite=True)\n",
    "pk.dump(previous_train_b, \"train_blur.gz\", overwrite=True)\n",
    "pk.dump(previous_validation_b, \"validation_blur.gz\", overwrite=True)\n",
    "pk.dump(previous_test_b, \"test_blur.gz\", overwrite=True)"
   ]
  },
  {
   "cell_type": "code",
   "execution_count": null,
   "metadata": {},
   "outputs": [],
   "source": []
  }
 ],
 "metadata": {
  "kernelspec": {
   "display_name": "Python 3",
   "language": "python",
   "name": "python3"
  },
  "language_info": {
   "codemirror_mode": {
    "name": "ipython",
    "version": 3
   },
   "file_extension": ".py",
   "mimetype": "text/x-python",
   "name": "python",
   "nbconvert_exporter": "python",
   "pygments_lexer": "ipython3",
   "version": "3.6.5"
  }
 },
 "nbformat": 4,
 "nbformat_minor": 2
}
