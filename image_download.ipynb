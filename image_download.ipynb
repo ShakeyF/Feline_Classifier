{
 "cells": [
  {
   "cell_type": "code",
   "execution_count": 2,
   "metadata": {},
   "outputs": [
    {
     "data": {
      "text/plain": [
       "'C:\\\\Users\\\\34965\\\\Desktop\\\\python\\\\ece285s'"
      ]
     },
     "execution_count": 2,
     "metadata": {},
     "output_type": "execute_result"
    }
   ],
   "source": [
    "import os\n",
    "import cv2\n",
    "import requests\n",
    "os.getcwd()"
   ]
  },
  {
   "cell_type": "code",
   "execution_count": 3,
   "metadata": {},
   "outputs": [],
   "source": [
    "# download the url txt document and change the image_source with the document path you download\n",
    "image_source = \"data\\path.txt\"\n",
    "file_object  = open(image_source, \"r\")\n",
    "urls = file_object.readlines()"
   ]
  },
  {
   "cell_type": "code",
   "execution_count": null,
   "metadata": {},
   "outputs": [],
   "source": [
    "# change the path into the path you want to save the images in the urls txt document\n",
    "# since there are many url expired we made some changes \n",
    "i = 0\n",
    "path = \"G:\\python\\ece285s\\\\raw\"\n",
    "for url in urls[0:-1]:\n",
    "    try:\n",
    "        r = requests.get(url, allow_redirects=False, timeout=0.1)\n",
    "        if len(r.content) > 5000:\n",
    "            open(os.path.join(path , '{:04d}.jpg'.format(i)), 'wb').write(r.content)\n",
    "            i += 1\n",
    "    except (requests.exceptions.Timeout, requests.exceptions.ConnectionError, requests.exceptions.ReadTimeout, requests.exceptions.ConnectTimeout):\n",
    "        pass"
   ]
  },
  {
   "cell_type": "code",
   "execution_count": null,
   "metadata": {},
   "outputs": [],
   "source": []
  }
 ],
 "metadata": {
  "kernelspec": {
   "display_name": "Python 3",
   "language": "python",
   "name": "python3"
  },
  "language_info": {
   "codemirror_mode": {
    "name": "ipython",
    "version": 3
   },
   "file_extension": ".py",
   "mimetype": "text/x-python",
   "name": "python",
   "nbconvert_exporter": "python",
   "pygments_lexer": "ipython3",
   "version": "3.6.5"
  }
 },
 "nbformat": 4,
 "nbformat_minor": 2
}
