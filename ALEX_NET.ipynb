{
 "cells": [
  {
   "cell_type": "code",
   "execution_count": 30,
   "metadata": {},
   "outputs": [],
   "source": [
    "from __future__ import print_function\n",
    "import os\n",
    "import os.path\n",
    "import numpy as np\n",
    "from dataIO import pk\n",
    "import torch.utils.data as data\n",
    "from torchvision import transforms\n",
    "import torch\n",
    "import torch.nn as nn\n",
    "import torch.nn.functional as F\n",
    "import torch.optim as optim\n",
    "from torch.autograd import Variable\n",
    "from time import time\n",
    "from PIL import Image\n",
    "import matplotlib.pyplot as plt\n"
   ]
  },
  {
   "cell_type": "code",
   "execution_count": 31,
   "metadata": {},
   "outputs": [],
   "source": [
    "class Feline(data.Dataset):\n",
    "    filename_train = \"train.gz\"\n",
    "    filename_validation = \"validation.gz\"\n",
    "    filename_test = \"test.gz\"\n",
    "    filename_Deblurred_test = \"Deblurred_7.gz\"\n",
    "    def targets(self):\n",
    "        if self.train:\n",
    "            return self.train_labels\n",
    "        else:\n",
    "            return self.test_labels\n",
    "    \n",
    "    def __init__(self, root, train=True, test=False, Blured=False,\n",
    "                 transform=None, target_transform=None, blur = None):\n",
    "        self.root = os.path.expanduser(root)\n",
    "        self.transform = transform\n",
    "        self.target_transform = target_transform\n",
    "        self.train = train  # training set or test set\n",
    "        self.test = test\n",
    "\n",
    "        # now load the picked numpy arrays\n",
    "        if self.train:\n",
    "            self.train_data = []\n",
    "            self.train_labels = []\n",
    "            file = os.path.join(self.root, self.filename_train)\n",
    "            entry = pk.load(file)\n",
    "            if Blured:\n",
    "                self.train_data.append(entry['blur_data'])\n",
    "            else:\n",
    "                self.train_data.append(entry['data'])\n",
    "            self.train_labels = entry['label']\n",
    "\n",
    "            self.train_data = np.concatenate(self.train_data)\n",
    "            self.train_data = self.train_data.reshape((-1, 64, 64, 3))\n",
    "            \n",
    "            \n",
    "        elif self.test:\n",
    "            file = os.path.join(self.root, self.filename_test)\n",
    "            entry = pk.load(file)\n",
    "            file1 = os.path.join(self.root, self.filename_Deblurred_test)\n",
    "            entry1=pk.load(file1)\n",
    "            if Blured:\n",
    "                self.test_data = entry1['data']\n",
    "                self.test_labels = entry1['label']\n",
    "            else:\n",
    "                self.test_data = entry['data']\n",
    "                self.test_labels = entry['label']\n",
    "            self.test_data = self.test_data.reshape((-1, 64, 64, 3))\n",
    "        \n",
    "        else:\n",
    "            file = os.path.join(self.root, self.filename_validation)\n",
    "            entry = pk.load(file)\n",
    "            if Blured:\n",
    "                self.validation_data = entry['blur_data']\n",
    "            else:\n",
    "                self.validation_data = entry[\"data\"]\n",
    "            self.validation_labels = entry['label']\n",
    "            self.validation_data = self.validation_data.reshape((-1, 64, 64, 3))\n",
    "                \n",
    "    def __getitem__(self, index):\n",
    "        \"\"\"\n",
    "        Args:\n",
    "            index (int): Index\n",
    "        Returns:\n",
    "            tuple: (image, target) where target is index of the target class.\n",
    "        \"\"\"\n",
    "        if self.train:\n",
    "            img, target = self.train_data[index], self.train_labels[index]\n",
    "        elif self.test:\n",
    "            img, target = self.test_data[index], self.test_labels[index]\n",
    "        else:\n",
    "            img, target = self.validation_data[index], self.validation_labels[index]\n",
    "\n",
    "        # doing this so that it is consistent with all other datasets\n",
    "        # to return a PIL Image\n",
    "        img = Image.fromarray(img)\n",
    "\n",
    "        if self.transform is not None:\n",
    "            img = self.transform(img)\n",
    "\n",
    "        if self.target_transform is not None:\n",
    "            target = self.target_transform(target)\n",
    "\n",
    "        return img, target\n",
    "\n",
    "    def __len__(self):\n",
    "        if self.train:\n",
    "            return len(self.train_data)\n",
    "        elif self.test:\n",
    "            return len(self.test_data)\n",
    "        else:\n",
    "            return len(self.validation_data)\n",
    "\n",
    "    def __repr__(self):\n",
    "        fmt_str = 'Dataset ' + self.__class__.__name__ + '\\n'\n",
    "        fmt_str += '    Number of datapoints: {}\\n'.format(self.__len__())\n",
    "        tmp = 'train' if self.train is True else 'test'\n",
    "        fmt_str += '    Split: {}\\n'.format(tmp)\n",
    "        fmt_str += '    Root Location: {}\\n'.format(self.root)\n",
    "        tmp = '    Transforms (if any): '\n",
    "        fmt_str += '{0}{1}\\n'.format(tmp, self.transform.__repr__().replace('\\n', '\\n' + ' ' * len(tmp)))\n",
    "        tmp = '    Target Transforms (if any): '\n",
    "        fmt_str += '{0}{1}'.format(tmp, self.target_transform.__repr__().replace('\\n', '\\n' + ' ' * len(tmp)))\n",
    "        return fmt_str"
   ]
  },
  {
   "cell_type": "code",
   "execution_count": 32,
   "metadata": {},
   "outputs": [
    {
     "name": "stdout",
     "output_type": "stream",
     "text": [
      "\n",
      "Load from './train.gz' ...\n",
      "    Complete! Elapse 0.893688 sec.\n",
      "\n",
      "Load from './validation.gz' ...\n",
      "    Complete! Elapse 0.799791 sec.\n",
      "\n",
      "Load from './test.gz' ...\n",
      "    Complete! Elapse 0.097262 sec.\n",
      "\n",
      "Load from './Deblurred_7.gz' ...\n",
      "    Complete! Elapse 0.047653 sec.\n"
     ]
    }
   ],
   "source": [
    "rootpath = '.'\n",
    "\n",
    "Transform = transforms.Compose([transforms.Resize((224,224)),transforms.ToTensor()])\n",
    "\n",
    "\n",
    "train = Feline(rootpath, train=True, test = False,\\\n",
    "                       transform=Transform)#transforms.ToTensor())\n",
    "validation = Feline(rootpath, train=False, test = False, \\\n",
    "                       transform=Transform)#transforms.ToTensor())\n",
    "test = Feline(rootpath, train=False, test = True, \\\n",
    "                       transform=Transform)#transforms.ToTensor())"
   ]
  },
  {
   "cell_type": "code",
   "execution_count": 7,
   "metadata": {},
   "outputs": [],
   "source": [
    "\n",
    "\n",
    "\n",
    "train_loader = torch.utils.data.DataLoader(train,\\\n",
    "                                           batch_size=32,\\\n",
    "                                           shuffle=True)\n",
    "validation_loader = torch.utils.data.DataLoader(validation,\\\n",
    "                                           batch_size=32,\\\n",
    "                                           shuffle=True)\n",
    "test_loader = torch.utils.data.DataLoader(test,\\\n",
    "                                          batch_size=32,\\\n",
    "                                          shuffle=True)"
   ]
  },
  {
   "cell_type": "code",
   "execution_count": 8,
   "metadata": {},
   "outputs": [],
   "source": [
    "class net(nn.Module):\n",
    "\n",
    "    def __init__(self, num_classes=4):\n",
    "        super(net, self).__init__()\n",
    "        self.features = nn.Sequential(\n",
    "            nn.Conv2d(3, 64, kernel_size=11, stride=4, padding=2),\n",
    "            nn.ReLU(inplace=True),\n",
    "            nn.MaxPool2d(kernel_size=3, stride=2),\n",
    "            nn.Conv2d(64, 192, kernel_size=5, padding=2),\n",
    "            nn.ReLU(inplace=True),\n",
    "            nn.MaxPool2d(kernel_size=3, stride=2),\n",
    "            nn.Conv2d(192, 384, kernel_size=3, padding=1),\n",
    "            nn.ReLU(inplace=True),\n",
    "            nn.Conv2d(384, 256, kernel_size=3, padding=1),\n",
    "            nn.ReLU(inplace=True),\n",
    "            nn.Conv2d(256, 256, kernel_size=3, padding=1),\n",
    "            nn.ReLU(inplace=True),\n",
    "            nn.MaxPool2d(kernel_size=3, stride=2),\n",
    "        )\n",
    "        self.classifier = nn.Sequential(\n",
    "            nn.Dropout(),\n",
    "            nn.Linear(256 * 6 * 6, 4096),\n",
    "            nn.ReLU(inplace=True),\n",
    "            nn.Dropout(),\n",
    "            nn.Linear(4096, 4096),\n",
    "            nn.ReLU(inplace=True),\n",
    "            nn.Linear(4096, num_classes),\n",
    "        )\n",
    "\n",
    "    def forward(self, x):\n",
    "        x = self.features(x)\n",
    "        x = x.view(x.size(0), 256 * 6 * 6)\n",
    "        x = self.classifier(x)\n",
    "        return x"
   ]
  },
  {
   "cell_type": "code",
   "execution_count": 9,
   "metadata": {},
   "outputs": [
    {
     "name": "stdout",
     "output_type": "stream",
     "text": [
      "net(\n",
      "  (features): Sequential(\n",
      "    (0): Conv2d(3, 64, kernel_size=(11, 11), stride=(4, 4), padding=(2, 2))\n",
      "    (1): ReLU(inplace)\n",
      "    (2): MaxPool2d(kernel_size=3, stride=2, padding=0, dilation=1, ceil_mode=False)\n",
      "    (3): Conv2d(64, 192, kernel_size=(5, 5), stride=(1, 1), padding=(2, 2))\n",
      "    (4): ReLU(inplace)\n",
      "    (5): MaxPool2d(kernel_size=3, stride=2, padding=0, dilation=1, ceil_mode=False)\n",
      "    (6): Conv2d(192, 384, kernel_size=(3, 3), stride=(1, 1), padding=(1, 1))\n",
      "    (7): ReLU(inplace)\n",
      "    (8): Conv2d(384, 256, kernel_size=(3, 3), stride=(1, 1), padding=(1, 1))\n",
      "    (9): ReLU(inplace)\n",
      "    (10): Conv2d(256, 256, kernel_size=(3, 3), stride=(1, 1), padding=(1, 1))\n",
      "    (11): ReLU(inplace)\n",
      "    (12): MaxPool2d(kernel_size=3, stride=2, padding=0, dilation=1, ceil_mode=False)\n",
      "  )\n",
      "  (classifier): Sequential(\n",
      "    (0): Dropout(p=0.5)\n",
      "    (1): Linear(in_features=9216, out_features=4096, bias=True)\n",
      "    (2): ReLU(inplace)\n",
      "    (3): Dropout(p=0.5)\n",
      "    (4): Linear(in_features=4096, out_features=4096, bias=True)\n",
      "    (5): ReLU(inplace)\n",
      "    (6): Linear(in_features=4096, out_features=4, bias=True)\n",
      "  )\n",
      ")\n"
     ]
    }
   ],
   "source": [
    "model = net()\n",
    "# for param in list(model.parameters())[:-2]:\n",
    "#     param.requires_grad = False     \n",
    "if torch.cuda.is_available():\n",
    "    model.cuda()\n",
    "print(model)"
   ]
  },
  {
   "cell_type": "code",
   "execution_count": 10,
   "metadata": {},
   "outputs": [],
   "source": [
    "def sampleAccuracyandLoss(dataloader, net):\n",
    "    correct = 0\n",
    "    total = 0\n",
    "    running_loss = 0\n",
    "    for i, data in enumerate(dataloader, 0):\n",
    "        inputs, labels = data       \n",
    "        inputs, labels = Variable(inputs.cuda()), Variable(labels.cuda())\n",
    "        outputs = net(inputs)\n",
    "        \n",
    "        loss = criterion(outputs, labels)       \n",
    "        running_loss += loss.cpu().data[0]\n",
    "        \n",
    "        _, predicted = torch.max(outputs.data, 1)        \n",
    "        total += labels.size(0)\n",
    "        labels = labels.view(labels.size()[0])\n",
    "        correct += (predicted == labels.data).sum()\n",
    "    res = running_loss/len(dataloader)\n",
    "    return correct.cpu().data.numpy() / total, res\n"
   ]
  },
  {
   "cell_type": "code",
   "execution_count": 11,
   "metadata": {},
   "outputs": [],
   "source": [
    "criterion = nn.CrossEntropyLoss()\n",
    "optimizer = optim.Adagrad(model.parameters(), lr = 0.001, weight_decay=0.0005)\n"
   ]
  },
  {
   "cell_type": "code",
   "execution_count": 9,
   "metadata": {
    "scrolled": false
   },
   "outputs": [
    {
     "name": "stderr",
     "output_type": "stream",
     "text": [
      "/opt/conda/lib/python3.6/site-packages/ipykernel_launcher.py:11: UserWarning: invalid index of a 0-dim tensor. This will be an error in PyTorch 0.5. Use tensor.item() to convert a 0-dim tensor to a Python number\n",
      "  # This is added back by InteractiveShellApp.init_path()\n"
     ]
    },
    {
     "name": "stdout",
     "output_type": "stream",
     "text": [
      "Test accuracy : 0.568\n",
      "Test loss : tensor(1.1417)\n",
      "Train loss : 1.2070500675647977\n",
      "Finishing epoch : 0\n",
      "Test accuracy : 0.57\n",
      "Test loss : tensor(1.1167)\n",
      "Train loss : 1.1167514064009227\n",
      "Finishing epoch : 1\n",
      "Test accuracy : 0.546\n",
      "Test loss : tensor(1.1238)\n",
      "Train loss : 1.0698330321955303\n",
      "Finishing epoch : 2\n",
      "Test accuracy : 0.566\n",
      "Test loss : tensor(1.0635)\n",
      "Train loss : 0.9944053992392525\n",
      "Finishing epoch : 3\n",
      "Test accuracy : 0.458\n",
      "Test loss : tensor(1.2000)\n",
      "Train loss : 0.9361539374268244\n",
      "Finishing epoch : 4\n",
      "Test accuracy : 0.584\n",
      "Test loss : tensor(1.0153)\n",
      "Train loss : 0.8883320263453892\n",
      "Finishing epoch : 5\n",
      "Test accuracy : 0.564\n",
      "Test loss : tensor(1.0822)\n",
      "Train loss : 0.833654196489425\n",
      "Finishing epoch : 6\n",
      "Test accuracy : 0.61\n",
      "Test loss : tensor(0.9691)\n",
      "Train loss : 0.8013148317261348\n",
      "Finishing epoch : 7\n",
      "Test accuracy : 0.67\n",
      "Test loss : tensor(0.8582)\n",
      "Train loss : 0.7527658655529931\n",
      "Finishing epoch : 8\n",
      "Test accuracy : 0.674\n",
      "Test loss : tensor(0.8959)\n",
      "Train loss : 0.7105758133388701\n",
      "Finishing epoch : 9\n",
      "Test accuracy : 0.686\n",
      "Test loss : tensor(0.8670)\n",
      "Train loss : 0.69759196728941\n",
      "Finishing epoch : 10\n",
      "Test accuracy : 0.7\n",
      "Test loss : tensor(0.8167)\n",
      "Train loss : 0.6785671207166853\n",
      "Finishing epoch : 11\n",
      "Test accuracy : 0.68\n",
      "Test loss : tensor(0.8268)\n",
      "Train loss : 0.6462886368944532\n",
      "Finishing epoch : 12\n",
      "Test accuracy : 0.668\n",
      "Test loss : tensor(0.8770)\n",
      "Train loss : 0.6106908078941088\n",
      "Finishing epoch : 13\n",
      "Test accuracy : 0.632\n",
      "Test loss : tensor(0.9048)\n",
      "Train loss : 0.5992086033026377\n",
      "Finishing epoch : 14\n",
      "Test accuracy : 0.712\n",
      "Test loss : tensor(0.8100)\n",
      "Train loss : 0.590746985068397\n",
      "Finishing epoch : 15\n",
      "Test accuracy : 0.732\n",
      "Test loss : tensor(0.8128)\n",
      "Train loss : 0.5578462365600798\n",
      "Finishing epoch : 16\n",
      "Test accuracy : 0.684\n",
      "Test loss : tensor(0.8671)\n",
      "Train loss : 0.5368629809882906\n",
      "Finishing epoch : 17\n",
      "Test accuracy : 0.704\n",
      "Test loss : tensor(0.8093)\n",
      "Train loss : 0.5328477174043655\n",
      "Finishing epoch : 18\n",
      "Test accuracy : 0.592\n",
      "Test loss : tensor(1.0235)\n",
      "Train loss : 0.5131424142727776\n",
      "Finishing epoch : 19\n",
      "Test accuracy : 0.632\n",
      "Test loss : tensor(0.9244)\n",
      "Train loss : 0.5014298151409815\n",
      "Finishing epoch : 20\n",
      "Test accuracy : 0.694\n",
      "Test loss : tensor(0.8660)\n",
      "Train loss : 0.47740811854600906\n",
      "Finishing epoch : 21\n",
      "Test accuracy : 0.68\n",
      "Test loss : tensor(0.8265)\n",
      "Train loss : 0.46647811207979445\n",
      "Finishing epoch : 22\n",
      "Test accuracy : 0.714\n",
      "Test loss : tensor(0.8252)\n",
      "Train loss : 0.4517459223667781\n",
      "Finishing epoch : 23\n",
      "Test accuracy : 0.724\n",
      "Test loss : tensor(0.8023)\n",
      "Train loss : 0.44145665211336954\n",
      "Finishing epoch : 24\n",
      "Test accuracy : 0.688\n",
      "Test loss : tensor(0.8429)\n",
      "Train loss : 0.42046696929231525\n",
      "Finishing epoch : 25\n",
      "Test accuracy : 0.706\n",
      "Test loss : tensor(0.8723)\n",
      "Train loss : 0.40515690580719993\n",
      "Finishing epoch : 26\n",
      "Test accuracy : 0.708\n",
      "Test loss : tensor(0.8648)\n",
      "Train loss : 0.3949646864618574\n",
      "Finishing epoch : 27\n",
      "Test accuracy : 0.692\n",
      "Test loss : tensor(0.9005)\n",
      "Train loss : 0.3864429898205258\n",
      "Finishing epoch : 28\n",
      "Test accuracy : 0.736\n",
      "Test loss : tensor(0.8002)\n",
      "Train loss : 0.3704694044140596\n",
      "Finishing epoch : 29\n"
     ]
    }
   ],
   "source": [
    "criterion = nn.CrossEntropyLoss()\n",
    "optimizer = optim.Adagrad(model.parameters(), lr = 0.001, weight_decay=0.0005)\n",
    "acc_test =[] \n",
    "loss_train, loss_test = [],[]\n",
    "\n",
    "for epoch in range(30):  # loop over the dataset multiple times\n",
    "    loss_acum = 0\n",
    " \n",
    "    for i, data in enumerate(train_loader, 0):        \n",
    "        inputs, labels = data       \n",
    "        inputs, labels = Variable(inputs.cuda()), Variable(labels.cuda())        \n",
    "        optimizer.zero_grad()\n",
    "        # forward + backward + optimize\n",
    "        outputs = model(inputs)\n",
    "        loss = criterion(outputs, labels)\n",
    "\n",
    "        loss_acum += float(loss.data.cpu().numpy())\n",
    "        loss.backward()\n",
    "        optimizer.step() \n",
    "        \n",
    "    loss_train.append(loss_acum/len(train_loader))    \n",
    "    at, lt = sampleAccuracyandLoss(test_loader, model)\n",
    "    acc_test.append(at)\n",
    "    loss_test.append(lt)\n",
    "    print(\"Test accuracy : %s\" % at)\n",
    "    print(\"Test loss : %s\" % lt)\n",
    "    print(\"Train loss :\", loss_acum/len(train_loader))\n",
    "    print(\"Finishing epoch : %s\" % epoch)\n"
   ]
  },
  {
   "cell_type": "code",
   "execution_count": 10,
   "metadata": {},
   "outputs": [
    {
     "data": {
      "image/png": "[encoded data removed]",
      "text/plain": [
       "<Figure size 432x288 with 1 Axes>"
      ]
     },
     "metadata": {},
     "output_type": "display_data"
    },
    {
     "data": {
      "image/png": "[encoded data removed]",
      "text/plain": [
       "<Figure size 432x288 with 1 Axes>"
      ]
     },
     "metadata": {},
     "output_type": "display_data"
    }
   ],
   "source": [
    "plt.plot(acc_test)\n",
    "plt.xlabel('epochs')\n",
    "plt.ylabel('test accuracy')\n",
    "plt.show()\n",
    "plt.plot(loss_train)\n",
    "plt.plot(loss_test)\n",
    "plt.xlabel('epochs')\n",
    "plt.ylabel('loss')\n",
    "plt.legend(['train_loss','test_loss'])\n",
    "plt.show()"
   ]
  },
  {
   "cell_type": "code",
   "execution_count": 11,
   "metadata": {},
   "outputs": [],
   "source": [
    "#torch.save(model, 'alex.pt')\n",
    "torch.save(model.state_dict(),'my_alex.pth')"
   ]
  },
  {
   "cell_type": "code",
   "execution_count": 12,
   "metadata": {},
   "outputs": [
    {
     "data": {
      "text/plain": [
       "net(\n",
       "  (features): Sequential(\n",
       "    (0): Conv2d(3, 64, kernel_size=(11, 11), stride=(4, 4), padding=(2, 2))\n",
       "    (1): ReLU(inplace)\n",
       "    (2): MaxPool2d(kernel_size=3, stride=2, padding=0, dilation=1, ceil_mode=False)\n",
       "    (3): Conv2d(64, 192, kernel_size=(5, 5), stride=(1, 1), padding=(2, 2))\n",
       "    (4): ReLU(inplace)\n",
       "    (5): MaxPool2d(kernel_size=3, stride=2, padding=0, dilation=1, ceil_mode=False)\n",
       "    (6): Conv2d(192, 384, kernel_size=(3, 3), stride=(1, 1), padding=(1, 1))\n",
       "    (7): ReLU(inplace)\n",
       "    (8): Conv2d(384, 256, kernel_size=(3, 3), stride=(1, 1), padding=(1, 1))\n",
       "    (9): ReLU(inplace)\n",
       "    (10): Conv2d(256, 256, kernel_size=(3, 3), stride=(1, 1), padding=(1, 1))\n",
       "    (11): ReLU(inplace)\n",
       "    (12): MaxPool2d(kernel_size=3, stride=2, padding=0, dilation=1, ceil_mode=False)\n",
       "  )\n",
       "  (classifier): Sequential(\n",
       "    (0): Dropout(p=0.5)\n",
       "    (1): Linear(in_features=9216, out_features=4096, bias=True)\n",
       "    (2): ReLU(inplace)\n",
       "    (3): Dropout(p=0.5)\n",
       "    (4): Linear(in_features=4096, out_features=4096, bias=True)\n",
       "    (5): ReLU(inplace)\n",
       "    (6): Linear(in_features=4096, out_features=4, bias=True)\n",
       "  )\n",
       ")"
      ]
     },
     "execution_count": 12,
     "metadata": {},
     "output_type": "execute_result"
    }
   ],
   "source": [
    "#alexmodel = torch.load('alex.pt')\n",
    "#alexmodel.eval()\n",
    "\n",
    "model.load_state_dict(torch.load('my_alex.pth'))\n",
    "model.eval()\n"
   ]
  },
  {
   "cell_type": "code",
   "execution_count": null,
   "metadata": {},
   "outputs": [],
   "source": []
  },
  {
   "cell_type": "code",
   "execution_count": 33,
   "metadata": {},
   "outputs": [
    {
     "name": "stdout",
     "output_type": "stream",
     "text": [
      "\n",
      "Load from './test.gz' ...\n",
      "    Complete! Elapse 0.102815 sec.\n",
      "\n",
      "Load from './Deblurred_7.gz' ...\n",
      "    Complete! Elapse 0.055412 sec.\n"
     ]
    }
   ],
   "source": [
    "Deblur_test = Feline(rootpath, train=False, test = True, Blured=True, \\\n",
    "                       transform=Transform)#transforms.ToTensor())\n",
    "Deblur_test_loader = torch.utils.data.DataLoader(Deblur_test,\\\n",
    "                                          batch_size=32,\\\n",
    "                                          shuffle=True)"
   ]
  },
  {
   "cell_type": "code",
   "execution_count": 34,
   "metadata": {},
   "outputs": [
    {
     "name": "stderr",
     "output_type": "stream",
     "text": [
      "/opt/conda/lib/python3.6/site-packages/ipykernel_launcher.py:11: UserWarning: invalid index of a 0-dim tensor. This will be an error in PyTorch 0.5. Use tensor.item() to convert a 0-dim tensor to a Python number\n",
      "  # This is added back by InteractiveShellApp.init_path()\n"
     ]
    }
   ],
   "source": [
    "at, lt = sampleAccuracyandLoss(Deblur_test_loader, model)\n"
   ]
  },
  {
   "cell_type": "code",
   "execution_count": 35,
   "metadata": {},
   "outputs": [
    {
     "name": "stdout",
     "output_type": "stream",
     "text": [
      "0.382 tensor(1.6995)\n"
     ]
    }
   ],
   "source": [
    "print(at,lt) #alex 07"
   ]
  },
  {
   "cell_type": "code",
   "execution_count": 20,
   "metadata": {},
   "outputs": [
    {
     "name": "stdout",
     "output_type": "stream",
     "text": [
      "0.374 tensor(1.7094)\n"
     ]
    }
   ],
   "source": [
    "print(at,lt) #alex 11"
   ]
  },
  {
   "cell_type": "code",
   "execution_count": 29,
   "metadata": {},
   "outputs": [
    {
     "name": "stdout",
     "output_type": "stream",
     "text": [
      "0.316 tensor(1.8203)\n"
     ]
    }
   ],
   "source": [
    "print(at,lt) #alex 21"
   ]
  },
  {
   "cell_type": "code",
   "execution_count": null,
   "metadata": {},
   "outputs": [],
   "source": []
  }
 ],
 "metadata": {
  "kernelspec": {
   "display_name": "Python 3",
   "language": "python",
   "name": "python3"
  },
  "language_info": {
   "codemirror_mode": {
    "name": "ipython",
    "version": 3
   },
   "file_extension": ".py",
   "mimetype": "text/x-python",
   "name": "python",
   "nbconvert_exporter": "python",
   "pygments_lexer": "ipython3",
   "version": "3.6.4"
  }
 },
 "nbformat": 4,
 "nbformat_minor": 2
}
