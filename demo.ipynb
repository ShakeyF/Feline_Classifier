{
 "cells": [
  {
   "cell_type": "markdown",
   "metadata": {},
   "source": [
    "**1.Data Generating**"
   ]
  },
  {
   "cell_type": "code",
   "execution_count": null,
   "metadata": {},
   "outputs": [],
   "source": [
    "from dataIO import pk\n",
    "import cv2 as cv\n",
    "import numpy as np\n",
    "import os\n",
    "\n",
    "from numpy import random\n",
    "import matplotlib.pyplot as plt\n",
    "import scipy.misc\n",
    "from skimage.io import imread\n",
    "from glob import glob\n",
    "\n",
    "from keras.layers import Conv2D, BatchNormalization, Activation,Merge, merge\n",
    "from keras.models import Model, Input\n",
    "import keras.backend as K\n",
    "import tensorflow as tf\n",
    "import gc\n",
    "\n",
    "from __future__ import print_function\n",
    "import os.path\n",
    "import torch.utils.data as data\n",
    "from torchvision import transforms\n",
    "import torch\n",
    "import torch.nn as nn\n",
    "import torch.nn.functional as F\n",
    "import torch.optim as optim\n",
    "from torch.autograd import Variable\n",
    "from PIL import Image\n",
    "import torchvision.models as models\n",
    "\n",
    "from utils import Feline, sampleAccuracy, sampleLoss, VGGpredict,limit_mem"
   ]
  },
  {
   "cell_type": "code",
   "execution_count": null,
   "metadata": {},
   "outputs": [],
   "source": [
    "height = 64\n",
    "width = 64\n",
    "imagedic = {\"data\":np.zeros(shape=[0,height,width,3],dtype = int),\"label\":[],\"blur_data\":np.zeros(shape=[0,height,width,3],dtype = int)}\n",
    "rootdir = \"./testimage\"\n",
    "pathlist = os.listdir(rootdir) #list all the file in path\n",
    "kernel_size = (21, 21)\n",
    "label = 0"
   ]
  },
  {
   "cell_type": "code",
   "execution_count": null,
   "metadata": {},
   "outputs": [],
   "source": [
    "for i in range(len(pathlist)):\n",
    "    label = pathlist[i]\n",
    "    subpath = os.path.join(rootdir,pathlist[i])\n",
    "    sublist = os.listdir(subpath)\n",
    "    for j in range(len(sublist)):\n",
    "        path = os.path.join(subpath,sublist[j])\n",
    "        if os.path.isfile(path):\n",
    "            img = cv.imread(path)\n",
    "            res = cv.resize(img,(width, height), interpolation = cv.INTER_CUBIC)\n",
    "            img_ = cv.blur(img, kernel_size)\n",
    "            res_ = cv.resize(img_,(width, height), interpolation = cv.INTER_CUBIC)\n",
    "            imagedic['data'] = np.append(imagedic['data'],[res], axis = 0).astype(np.uint8)\n",
    "            imagedic['label'].append(int(label))\n",
    "            imagedic['blur_data'] = np.append(imagedic['blur_data'],[res_], axis = 0).astype(np.uint8)"
   ]
  },
  {
   "cell_type": "markdown",
   "metadata": {},
   "source": [
    "**2.Image Deblurring**"
   ]
  },
  {
   "cell_type": "code",
   "execution_count": null,
   "metadata": {},
   "outputs": [],
   "source": [
    "config = tf.ConfigProto()\n",
    "config.gpu_options.per_process_gpu_memory_fraction = 0.3\n",
    "K.set_session(tf.Session(config=config))"
   ]
  },
  {
   "cell_type": "code",
   "execution_count": null,
   "metadata": {},
   "outputs": [],
   "source": [
    "X_test = {}\n",
    "X_test['blur_data']=imagedic['blur_data'].astype(float)\n",
    "X_test['data']=imagedic['data'].astype(float)"
   ]
  },
  {
   "cell_type": "code",
   "execution_count": null,
   "metadata": {},
   "outputs": [],
   "source": [
    "def plot_loss(train,valid):\n",
    "    fig,ax = plt.subplots()     \n",
    "    plt.xlabel('Training epoches')  \n",
    "    plt.ylabel('Loss values')    \n",
    "    x = range(len(train))\n",
    "\n",
    "    ax.plot(x,train,'g',label = 'train set')\n",
    "    ax.plot(x,valid,'r',label = 'validation set')\n",
    "    plt.grid(True)  \n",
    "    plt.legend(bbox_to_anchor=(1.0, 1), loc=1, borderaxespad=0.)  \n",
    "    plt.show()\n",
    "    plt.pause(0.001)"
   ]
  },
  {
   "cell_type": "code",
   "execution_count": null,
   "metadata": {},
   "outputs": [],
   "source": [
    "deblur_CNN_input = Input(shape=(64,64,3))\n",
    "\n",
    "#HIDDEN LAYERS\n",
    "deblur_CNN_layer1 = Conv2D(filters=128, kernel_size=10, strides = 1, padding='same')(deblur_CNN_input)\n",
    "deblur_CNN_layer1 = BatchNormalization()(deblur_CNN_layer1)\n",
    "deblur_CNN_layer1 = Activation('relu')(deblur_CNN_layer1)\n",
    "\n",
    "deblur_CNN_layer2 = Conv2D(filters=320, kernel_size=1, strides = 1, padding='same')(deblur_CNN_layer1)\n",
    "deblur_CNN_layer2 = BatchNormalization()(deblur_CNN_layer2)\n",
    "deblur_CNN_layer2 = Activation('relu')(deblur_CNN_layer2)\n",
    "\n",
    "deblur_CNN_layer3 = Conv2D(filters=320, kernel_size=1, strides = 1, padding='same')(deblur_CNN_layer2)\n",
    "deblur_CNN_layer3= BatchNormalization()(deblur_CNN_layer3)\n",
    "deblur_CNN_layer3 = Activation('relu')(deblur_CNN_layer3)\n",
    "\n",
    "deblur_CNN_layer4 = Conv2D(filters=320, kernel_size=1, strides = 1, padding='same')(deblur_CNN_layer3)\n",
    "deblur_CNN_layer4 = BatchNormalization()(deblur_CNN_layer4)\n",
    "deblur_CNN_layer4 = Activation('relu')(deblur_CNN_layer4)\n",
    "\n",
    "deblur_CNN_layer5 = Conv2D(filters=128, kernel_size=1, strides = 1, padding='same')(deblur_CNN_layer4)\n",
    "deblur_CNN_layer5 = BatchNormalization()(deblur_CNN_layer5)\n",
    "deblur_CNN_layer5 = Activation('relu')(deblur_CNN_layer5)\n",
    "\n",
    "deblur_CNN_layer6 = Conv2D(filters=128, kernel_size=3, strides = 1, padding='same')(deblur_CNN_layer5)\n",
    "deblur_CNN_layer6 = BatchNormalization()(deblur_CNN_layer6)\n",
    "deblur_CNN_layer6 = Activation('relu')(deblur_CNN_layer6)\n",
    "\n",
    "deblur_CNN_layer7 = Conv2D(filters=512, kernel_size=1, strides = 1, padding='same')(deblur_CNN_layer6)\n",
    "deblur_CNN_layer7 = BatchNormalization()(deblur_CNN_layer7)\n",
    "deblur_CNN_layer7 = Activation('relu')(deblur_CNN_layer7)\n",
    "\n",
    "deblur_CNN_layer8 = Conv2D(filters=128, kernel_size=5, strides = 1, padding='same')(deblur_CNN_layer7)\n",
    "deblur_CNN_layer8 = BatchNormalization()(deblur_CNN_layer8)\n",
    "deblur_CNN_layer8 = Activation('relu')(deblur_CNN_layer8)\n",
    "\n",
    "deblur_CNN_layer9 = Conv2D(filters=128, kernel_size=5, strides = 1, padding='same')(deblur_CNN_layer8)\n",
    "deblur_CNN_layer9 = BatchNormalization()(deblur_CNN_layer9)\n",
    "deblur_CNN_layer9 = Activation('relu')(deblur_CNN_layer9)\n",
    "\n",
    "deblur_CNN_layer10 = Conv2D(filters=128, kernel_size=3, strides = 1, padding='same')(deblur_CNN_layer9)\n",
    "deblur_CNN_layer10 = BatchNormalization()(deblur_CNN_layer10)\n",
    "deblur_CNN_layer10 = Activation('relu')(deblur_CNN_layer10)\n",
    "\n",
    "deblur_CNN_layer11 = Conv2D(filters=128, kernel_size=5, strides = 1, padding='same')(deblur_CNN_layer10)\n",
    "deblur_CNN_layer11 = BatchNormalization()(deblur_CNN_layer11)\n",
    "deblur_CNN_layer11 = Activation('relu')(deblur_CNN_layer11)\n",
    "\n",
    "deblur_CNN_layer12 = Conv2D(filters=128, kernel_size=5, strides = 1, padding='same')(deblur_CNN_layer11)\n",
    "deblur_CNN_layer12 = BatchNormalization()(deblur_CNN_layer12)\n",
    "deblur_CNN_layer12 = Activation('relu')(deblur_CNN_layer12)\n",
    "\n",
    "deblur_CNN_layer13 = Conv2D(filters=256, kernel_size=1, strides = 1, padding='same')(deblur_CNN_layer12)\n",
    "deblur_CNN_layer13 = BatchNormalization()(deblur_CNN_layer13)\n",
    "deblur_CNN_layer13 = Activation('relu')(deblur_CNN_layer13)\n",
    "\n",
    "deblur_CNN_layer14 = Conv2D(filters=64, kernel_size=7, strides = 1, padding='same')(deblur_CNN_layer13)\n",
    "deblur_CNN_layer14 = BatchNormalization()(deblur_CNN_layer14)\n",
    "deblur_CNN_layer14 = Activation('relu')(deblur_CNN_layer14)\n",
    "\n",
    "deblur_CNN_output = Conv2D(filters=3, kernel_size=7, strides = 1, padding='same', activation='relu')(deblur_CNN_layer14)\n",
    "\n",
    "deblur_CNN = Model(inputs= deblur_CNN_input, outputs=deblur_CNN_output )\n",
    "\n",
    "deblur_CNN.load_weights('weights_de_merge_10.h5')\n",
    "\n",
    "deblur_CNN.summary()"
   ]
  },
  {
   "cell_type": "code",
   "execution_count": null,
   "metadata": {},
   "outputs": [],
   "source": [
    "Deblurred = deblur_CNN.predict(X_test['blur_data'])\n",
    "Deblurred = np.clip(Deblurred, 0, 255)\n",
    "Deblurred=Deblurred.astype(np.uint8)\n",
    "f, ax = plt.subplots(3,10, figsize=(15,5))\n",
    "for i in range(10):\n",
    "    ax[0,i].imshow(cv.cvtColor(X_test['data'][i].astype('uint8'),cv.COLOR_BGR2RGB));  ax[0,i].axis('Off'); ax[0,i].set_title('Clean', size=15)\n",
    "    ax[1,i].imshow(cv.cvtColor(X_test['blur_data'][i].astype('uint8'),cv.COLOR_BGR2RGB));  ax[1,i].axis('Off'); ax[1,i].set_title('Blurry', size=15)\n",
    "    ax[2,i].imshow(cv.cvtColor(Deblurred[i].astype('uint8'),cv.COLOR_BGR2RGB));  ax[2,i].axis('Off'); ax[2,i].set_title('Deblurred', size=15)\n",
    "plt.show()"
   ]
  },
  {
   "cell_type": "code",
   "execution_count": null,
   "metadata": {},
   "outputs": [],
   "source": [
    "imagedic['deblur_data'] = Deblurred"
   ]
  },
  {
   "cell_type": "markdown",
   "metadata": {},
   "source": [
    "**3.Classifying(VGG16)**"
   ]
  },
  {
   "cell_type": "code",
   "execution_count": null,
   "metadata": {},
   "outputs": [],
   "source": [
    "class VGG_16(nn.Module):\n",
    "    def __init__(self):\n",
    "        super(VGG_16, self).__init__()\n",
    "        \n",
    "        self.vgg = models.vgg16(pretrained=True)        \n",
    "        self.vgg.classifier = nn.Sequential(\n",
    "            *(self.vgg.classifier[i] for i in range(6)))\n",
    "        self.vgg.classifier.add_module('fc',nn.Linear(4096,4))\n",
    "        \n",
    "    def forward(self, images):        \n",
    "        return self.vgg(images)"
   ]
  },
  {
   "cell_type": "code",
   "execution_count": null,
   "metadata": {
    "scrolled": false
   },
   "outputs": [],
   "source": [
    "vggmodel = torch.load('vgg16_2.pt')\n",
    "vggmodel.eval()"
   ]
  },
  {
   "cell_type": "code",
   "execution_count": null,
   "metadata": {},
   "outputs": [],
   "source": [
    "Transform = transforms.Compose([transforms.Resize((224,224)),transforms.ToTensor()])\n",
    "Origin_test = Feline(imagedic, Deblur=False, Blured=False, transform=Transform)#transforms.ToTensor()\n",
    "Blurred_test = Feline(imagedic, Deblur=False, Blured=True, transform=Transform)#transforms.ToTensor()\n",
    "Deblur_test = Feline(imagedic, Deblur=True, Blured=False, transform=Transform)#transforms.ToTensor()\n",
    "Origin_test_loader = torch.utils.data.DataLoader(Origin_test, batch_size=1, shuffle=True)\n",
    "Blurred_test_loader = torch.utils.data.DataLoader(Blurred_test, batch_size=1, shuffle=True)\n",
    "Deblur_test_loader = torch.utils.data.DataLoader(Deblur_test, batch_size=1, shuffle=True)"
   ]
  },
  {
   "cell_type": "code",
   "execution_count": null,
   "metadata": {},
   "outputs": [],
   "source": [
    "Origin_predict = VGGpredict(Origin_test_loader, vggmodel)\n",
    "Blurred_predict = VGGpredict(Blurred_test_loader, vggmodel)\n",
    "Deblur_predict = VGGpredict(Deblur_test_loader, vggmodel)"
   ]
  },
  {
   "cell_type": "code",
   "execution_count": null,
   "metadata": {
    "scrolled": false
   },
   "outputs": [],
   "source": [
    "feline_class = ['cat','tiger','lion','cheetah']\n",
    "for i in range(len(Origin_predict)):\n",
    "    plt.figure()\n",
    "    f, ax = plt.subplots(1,3, figsize=(8,3))\n",
    "    print('class: Ground truth: {}; Origin image: {}; Blurred image: {}; Deblurred image: {}'\\\n",
    "          .format(feline_class[imagedic['label'][i]], feline_class[Origin_predict[i]],\\\n",
    "                feline_class[Blurred_predict[i]], feline_class[Deblur_predict[i]]))\n",
    "    ax[0].imshow(cv.cvtColor(imagedic['data'][i].astype('uint8'),cv.COLOR_BGR2RGB));  ax[0].axis('Off'); ax[0].set_title('Origin', size=15)\n",
    "    ax[1].imshow(cv.cvtColor(imagedic['blur_data'][i].astype('uint8'),cv.COLOR_BGR2RGB));  ax[1].axis('Off'); ax[1].set_title('Blurred', size=15)\n",
    "    ax[2].imshow(cv.cvtColor(imagedic['deblur_data'][i].astype('uint8'),cv.COLOR_BGR2RGB));  ax[2].axis('Off'); ax[2].set_title('Deblurred', size=15)\n",
    "    plt.pause(0.1)"
   ]
  },
  {
   "cell_type": "code",
   "execution_count": null,
   "metadata": {},
   "outputs": [],
   "source": []
  }
 ],
 "metadata": {
  "kernelspec": {
   "display_name": "Python 3",
   "language": "python",
   "name": "python3"
  },
  "language_info": {
   "codemirror_mode": {
    "name": "ipython",
    "version": 3
   },
   "file_extension": ".py",
   "mimetype": "text/x-python",
   "name": "python",
   "nbconvert_exporter": "python",
   "pygments_lexer": "ipython3",
   "version": "3.6.5"
  }
 },
 "nbformat": 4,
 "nbformat_minor": 2
}
