{
 "cells": [
  {
   "cell_type": "code",
   "execution_count": 11,
   "metadata": {},
   "outputs": [],
   "source": [
    "from __future__ import print_function\n",
    "import os\n",
    "import os.path\n",
    "import numpy as np\n",
    "from dataIO import pk\n",
    "import torch.utils.data as data\n",
    "from torchvision import transforms\n",
    "import torch\n",
    "import torch.nn as nn\n",
    "import torch.nn.functional as F\n",
    "import torch.optim as optim\n",
    "from torch.autograd import Variable\n",
    "from time import time\n",
    "from PIL import Image\n",
    "import torchvision.models as models"
   ]
  },
  {
   "cell_type": "code",
   "execution_count": 12,
   "metadata": {},
   "outputs": [],
   "source": [
    "class Feline(data.Dataset):\n",
    "    filename_train = \"train.gz\"\n",
    "    filename_validation = \"validation.gz\"\n",
    "    filename_test = \"test.gz\"\n",
    "    \n",
    "    def targets(self):\n",
    "        if self.train:\n",
    "            return self.train_labels\n",
    "        else:\n",
    "            return self.test_labels\n",
    "    \n",
    "    def __init__(self, root, train=True, test=True,\n",
    "                 transform=None, target_transform=None, blur = None):\n",
    "        self.root = os.path.expanduser(root)\n",
    "        self.transform = transform\n",
    "        self.target_transform = target_transform\n",
    "        self.train = train  # training set or test set\n",
    "        self.test = test\n",
    "\n",
    "        # now load the picked numpy arrays\n",
    "        if self.train:\n",
    "            self.train_data = []\n",
    "            self.train_labels = []\n",
    "            file = os.path.join(self.root, self.filename_train)\n",
    "            entry = pk.load(file)\n",
    "            self.train_data.append(entry['data'])\n",
    "            self.train_labels = entry['label']\n",
    "\n",
    "            self.train_data = np.concatenate(self.train_data)\n",
    "            self.train_data = self.train_data.reshape((-1, 32, 32, 3))\n",
    "            \n",
    "            \n",
    "        elif self.test:\n",
    "            file = os.path.join(self.root, self.filename_test)\n",
    "            entry = pk.load(file)\n",
    "            self.test_data = entry[\"data\"]\n",
    "            self.test_labels = entry['label']\n",
    "            self.test_data = self.test_data.reshape((-1, 32, 32, 3))\n",
    "        \n",
    "        else:\n",
    "            file = os.path.join(self.root, self.filename_validation)\n",
    "            entry = pk.load(file)\n",
    "            self.validation_data = entry[\"data\"]\n",
    "            self.validation_labels = entry['label']\n",
    "            self.validation_data = self.validation_data.reshape((-1, 32, 32, 3))\n",
    "                \n",
    "    def __getitem__(self, index):\n",
    "        \"\"\"\n",
    "        Args:\n",
    "            index (int): Index\n",
    "        Returns:\n",
    "            tuple: (image, target) where target is index of the target class.\n",
    "        \"\"\"\n",
    "        if self.train:\n",
    "            img, target = self.train_data[index], self.train_labels[index]\n",
    "        elif self.test:\n",
    "            img, target = self.test_data[index], self.test_labels[index]\n",
    "        else:\n",
    "            img, target = self.validation_data[index], self.validation_labels[index]\n",
    "\n",
    "        # doing this so that it is consistent with all other datasets\n",
    "        # to return a PIL Image\n",
    "        img = Image.fromarray(img)\n",
    "\n",
    "        if self.transform is not None:\n",
    "            img = self.transform(img)\n",
    "\n",
    "        if self.target_transform is not None:\n",
    "            target = self.target_transform(target)\n",
    "\n",
    "        return img, target\n",
    "\n",
    "    def __len__(self):\n",
    "        if self.train:\n",
    "            return len(self.train_data)\n",
    "        elif self.test:\n",
    "            return len(self.test_data)\n",
    "        else:\n",
    "            return len(self.validation_data)\n",
    "\n",
    "    def __repr__(self):\n",
    "        fmt_str = 'Dataset ' + self.__class__.__name__ + '\\n'\n",
    "        fmt_str += '    Number of datapoints: {}\\n'.format(self.__len__())\n",
    "        tmp = 'train' if self.train is True else 'test'\n",
    "        fmt_str += '    Split: {}\\n'.format(tmp)\n",
    "        fmt_str += '    Root Location: {}\\n'.format(self.root)\n",
    "        tmp = '    Transforms (if any): '\n",
    "        fmt_str += '{0}{1}\\n'.format(tmp, self.transform.__repr__().replace('\\n', '\\n' + ' ' * len(tmp)))\n",
    "        tmp = '    Target Transforms (if any): '\n",
    "        fmt_str += '{0}{1}'.format(tmp, self.target_transform.__repr__().replace('\\n', '\\n' + ' ' * len(tmp)))\n",
    "        return fmt_str"
   ]
  },
  {
   "cell_type": "code",
   "execution_count": 13,
   "metadata": {},
   "outputs": [
    {
     "name": "stdout",
     "output_type": "stream",
     "text": [
      "\n",
      "Load from './train.gz' ...\n",
      "    Complete! Elapse 0.160360 sec.\n",
      "\n",
      "Load from './validation.gz' ...\n",
      "    Complete! Elapse 0.208683 sec.\n",
      "\n",
      "Load from './test.gz' ...\n",
      "    Complete! Elapse 0.026262 sec.\n"
     ]
    }
   ],
   "source": [
    "rootpath = '.'\n",
    "\n",
    "Transform = transforms.Compose([transforms.Resize((224,224)),transforms.ToTensor()])\n",
    "\n",
    "\n",
    "train = Feline(rootpath, train=True, test = False,\\\n",
    "                       transform=Transform)#transforms.ToTensor())\n",
    "validation = Feline(rootpath, train=False, test = False, \\\n",
    "                       transform=Transform)#transforms.ToTensor())\n",
    "test = Feline(rootpath, train=False, test = True, \\\n",
    "                       transform=Transform)#transforms.ToTensor())"
   ]
  },
  {
   "cell_type": "code",
   "execution_count": 14,
   "metadata": {},
   "outputs": [],
   "source": [
    "\n",
    "\n",
    "\n",
    "train_loader = torch.utils.data.DataLoader(train,\\\n",
    "                                           batch_size=32,\\\n",
    "                                           shuffle=True)\n",
    "validation_loader = torch.utils.data.DataLoader(validation,\\\n",
    "                                           batch_size=32,\\\n",
    "                                           shuffle=True)\n",
    "test_loader = torch.utils.data.DataLoader(test,\\\n",
    "                                          batch_size=32,\\\n",
    "                                          shuffle=True)"
   ]
  },
  {
   "cell_type": "code",
   "execution_count": 15,
   "metadata": {},
   "outputs": [],
   "source": [
    "def sampleAccuracy(dataloader, net):\n",
    "    correct = 0\n",
    "    total = 0\n",
    "    for data in dataloader:\n",
    "        inputs, labels = data       \n",
    "        inputs, labels = Variable(inputs.cuda()), Variable(labels.cuda())\n",
    "        outputs = net(inputs)\n",
    "        \n",
    "        _, predicted = torch.max(outputs.data, 1)        \n",
    "        total += labels.size(0)\n",
    "        labels = labels.view(labels.size()[0])\n",
    "        correct += (predicted == labels.data).sum()\n",
    "    return correct.cpu().data.numpy() / total\n",
    "\n",
    "def sampleLoss(dataloader, net):\n",
    "    running_loss = 0\n",
    "    for i, data in enumerate(dataloader, 0):        \n",
    "        inputs, labels = data       \n",
    "        inputs, labels = Variable(inputs.cuda()), Variable(labels.cuda())       \n",
    "        \n",
    "        outputs = net(inputs)\n",
    "        loss = criterion(outputs, labels)       \n",
    "        running_loss += loss.cpu().data[0]       \n",
    "    res = running_loss/len(dataloader)\n",
    "    return res"
   ]
  },
  {
   "cell_type": "code",
   "execution_count": 16,
   "metadata": {},
   "outputs": [],
   "source": [
    "class VGG_16(nn.Module):\n",
    "    def __init__(self):\n",
    "        super(VGG_16, self).__init__()\n",
    "        \n",
    "        self.vgg = models.vgg16(pretrained=True)        \n",
    "        self.vgg.classifier = nn.Sequential(\n",
    "            *(self.vgg.classifier[i] for i in range(6)))\n",
    "        self.vgg.classifier.add_module('fc',nn.Linear(4096,4))\n",
    "        \n",
    "    def forward(self, images):        \n",
    "        return self.vgg(images)"
   ]
  },
  {
   "cell_type": "code",
   "execution_count": 17,
   "metadata": {},
   "outputs": [],
   "source": [
    "def plot_accuracy(train,test,valid):\n",
    "    fig,ax = plt.subplots()     \n",
    "    plt.xlabel('Training epochs')  \n",
    "    plt.ylabel('Accuracy') \n",
    "    x = range(len(train))\n",
    "    ax.plot(x,train,'b',label = 'training set')    \n",
    "    ax.plot(x,test,'r',label = 'test set')    \n",
    "    ax.plot(x,valid,'g',label = 'validation set')\n",
    "    plt.grid(True)  \n",
    "    plt.legend(bbox_to_anchor=(1.0, 0), loc = 4, borderaxespad=0.)  \n",
    "    plt.show()  \n",
    "    plt.pause(0.001)\n",
    "\n",
    "def plot_loss(train,test,valid):\n",
    "    fig,ax = plt.subplots()     \n",
    "    plt.xlabel('Training epoches')  \n",
    "    plt.ylabel('Loss values')    \n",
    "    x = range(len(train))\n",
    "\n",
    "    ax.plot(x,train,'b',label = 'train set')\n",
    "    ax.plot(x,test,'r',label = 'test set') \n",
    "    ax.plot(x,valid,'g',label = 'validation set')\n",
    "    plt.grid(True)  \n",
    "    plt.legend(bbox_to_anchor=(1.0, 1), loc=1, borderaxespad=0.)  \n",
    "    plt.show()\n",
    "    plt.pause(0.001)"
   ]
  },
  {
   "cell_type": "code",
   "execution_count": 18,
   "metadata": {},
   "outputs": [
    {
     "name": "stderr",
     "output_type": "stream",
     "text": [
      "Downloading: \"https://download.pytorch.org/models/vgg16-397923af.pth\" to /datasets/home/04/004/l5shi/.torch/models/vgg16-397923af.pth\n",
      "100%|██████████| 553433881/553433881 [00:58<00:00, 9429626.24it/s] \n"
     ]
    },
    {
     "data": {
      "text/plain": [
       "VGG_16(\n",
       "  (vgg): VGG(\n",
       "    (features): Sequential(\n",
       "      (0): Conv2d(3, 64, kernel_size=(3, 3), stride=(1, 1), padding=(1, 1))\n",
       "      (1): ReLU(inplace)\n",
       "      (2): Conv2d(64, 64, kernel_size=(3, 3), stride=(1, 1), padding=(1, 1))\n",
       "      (3): ReLU(inplace)\n",
       "      (4): MaxPool2d(kernel_size=2, stride=2, padding=0, dilation=1, ceil_mode=False)\n",
       "      (5): Conv2d(64, 128, kernel_size=(3, 3), stride=(1, 1), padding=(1, 1))\n",
       "      (6): ReLU(inplace)\n",
       "      (7): Conv2d(128, 128, kernel_size=(3, 3), stride=(1, 1), padding=(1, 1))\n",
       "      (8): ReLU(inplace)\n",
       "      (9): MaxPool2d(kernel_size=2, stride=2, padding=0, dilation=1, ceil_mode=False)\n",
       "      (10): Conv2d(128, 256, kernel_size=(3, 3), stride=(1, 1), padding=(1, 1))\n",
       "      (11): ReLU(inplace)\n",
       "      (12): Conv2d(256, 256, kernel_size=(3, 3), stride=(1, 1), padding=(1, 1))\n",
       "      (13): ReLU(inplace)\n",
       "      (14): Conv2d(256, 256, kernel_size=(3, 3), stride=(1, 1), padding=(1, 1))\n",
       "      (15): ReLU(inplace)\n",
       "      (16): MaxPool2d(kernel_size=2, stride=2, padding=0, dilation=1, ceil_mode=False)\n",
       "      (17): Conv2d(256, 512, kernel_size=(3, 3), stride=(1, 1), padding=(1, 1))\n",
       "      (18): ReLU(inplace)\n",
       "      (19): Conv2d(512, 512, kernel_size=(3, 3), stride=(1, 1), padding=(1, 1))\n",
       "      (20): ReLU(inplace)\n",
       "      (21): Conv2d(512, 512, kernel_size=(3, 3), stride=(1, 1), padding=(1, 1))\n",
       "      (22): ReLU(inplace)\n",
       "      (23): MaxPool2d(kernel_size=2, stride=2, padding=0, dilation=1, ceil_mode=False)\n",
       "      (24): Conv2d(512, 512, kernel_size=(3, 3), stride=(1, 1), padding=(1, 1))\n",
       "      (25): ReLU(inplace)\n",
       "      (26): Conv2d(512, 512, kernel_size=(3, 3), stride=(1, 1), padding=(1, 1))\n",
       "      (27): ReLU(inplace)\n",
       "      (28): Conv2d(512, 512, kernel_size=(3, 3), stride=(1, 1), padding=(1, 1))\n",
       "      (29): ReLU(inplace)\n",
       "      (30): MaxPool2d(kernel_size=2, stride=2, padding=0, dilation=1, ceil_mode=False)\n",
       "    )\n",
       "    (classifier): Sequential(\n",
       "      (0): Linear(in_features=25088, out_features=4096, bias=True)\n",
       "      (1): ReLU(inplace)\n",
       "      (2): Dropout(p=0.5)\n",
       "      (3): Linear(in_features=4096, out_features=4096, bias=True)\n",
       "      (4): ReLU(inplace)\n",
       "      (5): Dropout(p=0.5)\n",
       "      (fc): Linear(in_features=4096, out_features=4, bias=True)\n",
       "    )\n",
       "  )\n",
       ")"
      ]
     },
     "execution_count": 18,
     "metadata": {},
     "output_type": "execute_result"
    }
   ],
   "source": [
    "net = VGG_16()\n",
    "\n",
    "#set other layer to non-trainable\n",
    "for param in list(net.parameters())[:-2]:\n",
    "    param.requires_grad = False     \n",
    "net.cuda()"
   ]
  },
  {
   "cell_type": "code",
   "execution_count": null,
   "metadata": {
    "scrolled": false
   },
   "outputs": [],
   "source": []
  },
  {
   "cell_type": "code",
   "execution_count": 19,
   "metadata": {},
   "outputs": [],
   "source": [
    "learning_rate = 0.001\n",
    "criterion = nn.CrossEntropyLoss()\n",
    "#1 SGD\n",
    "optimizer = optim.SGD([net.vgg.classifier.fc.weight, net.vgg.classifier.fc.bias], lr=learning_rate, momentum=0.9)\n"
   ]
  },
  {
   "cell_type": "code",
   "execution_count": 21,
   "metadata": {},
   "outputs": [
    {
     "name": "stderr",
     "output_type": "stream",
     "text": [
      "/opt/conda/lib/python3.6/site-packages/ipykernel_launcher.py:23: UserWarning: invalid index of a 0-dim tensor. This will be an error in PyTorch 0.5. Use tensor.item() to convert a 0-dim tensor to a Python number\n"
     ]
    },
    {
     "name": "stdout",
     "output_type": "stream",
     "text": [
      "99\r"
     ]
    },
    {
     "ename": "NameError",
     "evalue": "name 'testloader' is not defined",
     "output_type": "error",
     "traceback": [
      "\u001b[0;31m\u001b[0m",
      "\u001b[0;31mNameError\u001b[0mTraceback (most recent call last)",
      "\u001b[0;32m<ipython-input-21-76cbe2887929>\u001b[0m in \u001b[0;36m<module>\u001b[0;34m()\u001b[0m\n\u001b[1;32m     31\u001b[0m \u001b[0;34m\u001b[0m\u001b[0m\n\u001b[1;32m     32\u001b[0m     \u001b[0;31m#print(\"Finishing epoch : %s\" % epoch)\u001b[0m\u001b[0;34m\u001b[0m\u001b[0;34m\u001b[0m\u001b[0m\n\u001b[0;32m---> 33\u001b[0;31m     \u001b[0mprint\u001b[0m\u001b[0;34m(\u001b[0m\u001b[0;34m\"Epoch %d finished ===> with accuracy %f on testset.\"\u001b[0m \u001b[0;34m%\u001b[0m \u001b[0;34m(\u001b[0m\u001b[0mepoch\u001b[0m\u001b[0;34m,\u001b[0m \u001b[0msampleAccuracy\u001b[0m\u001b[0;34m(\u001b[0m\u001b[0mtestloader\u001b[0m\u001b[0;34m,\u001b[0m \u001b[0mnet\u001b[0m\u001b[0;34m)\u001b[0m\u001b[0;34m)\u001b[0m\u001b[0;34m)\u001b[0m\u001b[0;34m\u001b[0m\u001b[0m\n\u001b[0m\u001b[1;32m     34\u001b[0m \u001b[0mprint\u001b[0m\u001b[0;34m(\u001b[0m\u001b[0;34m'Finished Training'\u001b[0m\u001b[0;34m)\u001b[0m\u001b[0;34m\u001b[0m\u001b[0m\n",
      "\u001b[0;31mNameError\u001b[0m: name 'testloader' is not defined"
     ]
    }
   ],
   "source": [
    "num_epochs = 6\n",
    "\n",
    "\n",
    "acc_train, acc_test, acc_val =[],[],[] \n",
    "loss_train, loss_test, loss_val = [],[],[]\n",
    "\n",
    "# training\n",
    "for epoch in range(num_epochs):  # loop over the dataset multiple times\n",
    "    running_loss = 0.0\n",
    "    for i, data in enumerate(train_loader, 0):        \n",
    "        inputs, labels = data       \n",
    "        inputs, labels = Variable(inputs.cuda()), Variable(labels.cuda())        \n",
    "        optimizer.zero_grad()\n",
    "        # forward + backward + optimize\n",
    "        outputs = net(inputs)\n",
    "        loss = criterion(outputs, labels)\n",
    "        loss.backward()\n",
    "        optimizer.step() \n",
    "        \n",
    "        if (i + 1) % 20 == 0:\n",
    "            acc_train.append(sampleAccuracy(train_loader, net))\n",
    "            acc_test.append(sampleAccuracy(test_loader, net))\n",
    "            acc_val.append(sampleAccuracy(validation_loader, net))\n",
    "            \n",
    "            loss_train.append(sampleLoss(train_loader, net))\n",
    "            loss_test.append(sampleLoss(test_loader, net))\n",
    "            loss_val.append(sampleLoss(validation_loader, net))\n",
    "                       \n",
    "            print(i,end='\\r')\n",
    "\n",
    "        \n",
    "    #print(\"Finishing epoch : %s\" % epoch)\n",
    "    print(\"Epoch %d finished ===> with accuracy %f on testset.\" % (epoch, sampleAccuracy(test_loader, net)))\n",
    "print('Finished Training')"
   ]
  },
  {
   "cell_type": "code",
   "execution_count": 24,
   "metadata": {},
   "outputs": [
    {
     "data": {
      "image/png": "[encoded data removed]",
      "text/plain": [
       "<Figure size 432x288 with 1 Axes>"
      ]
     },
     "metadata": {},
     "output_type": "display_data"
    },
    {
     "data": {
      "image/png": "[encoded data removed]",
      "text/plain": [
       "<Figure size 432x288 with 1 Axes>"
      ]
     },
     "metadata": {},
     "output_type": "display_data"
    }
   ],
   "source": [
    "import matplotlib.pyplot as plt\n",
    "\n",
    "plot_accuracy(acc_train, acc_test, acc_val)\n",
    "plot_loss(loss_train, loss_test, loss_val)"
   ]
  },
  {
   "cell_type": "code",
   "execution_count": null,
   "metadata": {},
   "outputs": [],
   "source": []
  },
  {
   "cell_type": "code",
   "execution_count": null,
   "metadata": {},
   "outputs": [],
   "source": []
  }
 ],
 "metadata": {
  "kernelspec": {
   "display_name": "Python 3",
   "language": "python",
   "name": "python3"
  },
  "language_info": {
   "codemirror_mode": {
    "name": "ipython",
    "version": 3
   },
   "file_extension": ".py",
   "mimetype": "text/x-python",
   "name": "python",
   "nbconvert_exporter": "python",
   "pygments_lexer": "ipython3",
   "version": "3.6.4"
  }
 },
 "nbformat": 4,
 "nbformat_minor": 2
}
